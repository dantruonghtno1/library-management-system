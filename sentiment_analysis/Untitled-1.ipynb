{
 "metadata": {
  "language_info": {
   "codemirror_mode": {
    "name": "ipython",
    "version": 3
   },
   "file_extension": ".py",
   "mimetype": "text/x-python",
   "name": "python",
   "nbconvert_exporter": "python",
   "pygments_lexer": "ipython3",
   "version": "3.8.5-final"
  },
  "orig_nbformat": 2,
  "kernelspec": {
   "name": "python385jvsc74a57bd0b3ba2566441a7c06988d0923437866b63cedc61552a5af99d1f4fb67d367b25f",
   "display_name": "Python 3.8.5 64-bit (conda)"
  }
 },
 "nbformat": 4,
 "nbformat_minor": 2,
 "cells": [
  {
   "cell_type": "code",
   "execution_count": 1,
   "metadata": {},
   "outputs": [],
   "source": [
    "import MySQLdb"
   ]
  },
  {
   "cell_type": "code",
   "execution_count": 5,
   "metadata": {},
   "outputs": [],
   "source": [
    "dsn_database = \"library\"   # e.g. \"MySQLdbtest\"\n",
    "dsn_hostname = \"localhost\"       # e.g.: \"mydbinstance.xyz.us-east-1.rds.amazonaws.com\"\n",
    "dsn_port = 3306                        # e.g. 3306 \n",
    "dsn_uid = \"root\"             # e.g. \"user1\"\n",
    "dsn_pwd = \"\"            # e.g. \"Password123\""
   ]
  },
  {
   "cell_type": "code",
   "execution_count": 6,
   "metadata": {},
   "outputs": [],
   "source": [
    "conn = MySQLdb.connect(host=dsn_hostname, port=dsn_port, user=dsn_uid, passwd=dsn_pwd, db=dsn_database)"
   ]
  },
  {
   "cell_type": "code",
   "execution_count": 7,
   "metadata": {},
   "outputs": [
    {
     "output_type": "stream",
     "name": "stdout",
     "text": [
      "('ran', 5, 'Amazing read, hits so many genres in one novel. Definitely needs a second book, so attached to the characters I need to know what next for them.')\n('ran', 5, 'Amazing read, hits so many genres in one novel. Definitely needs a second book, so attached to the characters I need to know what next for them.')\n('ran', 5, 'Amazing read, hits so many genres in one novel. Definitely needs a second book, so attached to the characters I need to know what next for them.')\n('ran', 5, 'Amazing read, hits so many genres in one novel. Definitely needs a second book, so attached to the characters I need to know what next for them.')\n('ran', 5, 'Amazing read, hits so many genres in one novel. Definitely needs a second book, so attached to the characters I need to know what next for them.')\n('ran', 5, 'Amazing read, hits so many genres in one novel. Definitely needs a second book, so attached to the characters I need to know what next for them.')\n('ran', 5, 'Amazing read, hits so many genres in one novel. Definitely needs a second book, so attached to the characters I need to know what next for them.')\n('ran', 5, 'Amazing read, hits so many genres in one novel. Definitely needs a second book, so attached to the characters I need to know what next for them.')\n('ran', 5, 'Amazing read, hits so many genres in one novel. Definitely needs a second book, so attached to the characters I need to know what next for them.')\n('ran', 5, 'Amazing read, hits so many genres in one novel. Definitely needs a second book, so attached to the characters I need to know what next for them.')\n('ran', 5, 'Amazing read, hits so many genres in one novel. Definitely needs a second book, so attached to the characters I need to know what next for them.')\n('ran', 5, 'Amazing read, hits so many genres in one novel. Definitely needs a second book, so attached to the characters I need to know what next for them.')\n('ran', 5, 'Amazing read, hits so many genres in one novel. Definitely needs a second book, so attached to the characters I need to know what next for them.')\n('ran', 5, 'Amazing read, hits so many genres in one novel. Definitely needs a second book, so attached to the characters I need to know what next for them.')\n('ran', 5, 'Amazing read, hits so many genres in one novel. Definitely needs a second book, so attached to the characters I need to know what next for them.')\n('ran', 5, 'Amazing read, hits so many genres in one novel. Definitely needs a second book, so attached to the characters I need to know what next for them.')\n('ran', 5, 'Amazing read, hits so many genres in one novel. Definitely needs a second book, so attached to the characters I need to know what next for them.')\n('ran', 5, 'Amazing read, hits so many genres in one novel. Definitely needs a second book, so attached to the characters I need to know what next for them.')\n('ran', 5, 'Amazing read, hits so many genres in one novel. Definitely needs a second book, so attached to the characters I need to know what next for them.')\n('ran', 5, 'Amazing read, hits so many genres in one novel. Definitely needs a second book, so attached to the characters I need to know what next for them.')\n('ran', 5, 'Amazing read, hits so many genres in one novel. Definitely needs a second book, so attached to the characters I need to know what next for them.')\n('ran', 5, 'Amazing read, hits so many genres in one novel. Definitely needs a second book, so attached to the characters I need to know what next for them.')\n('ran', 5, 'Amazing read, hits so many genres in one novel. Definitely needs a second book, so attached to the characters I need to know what next for them.')\n('ran', 5, 'Amazing read, hits so many genres in one novel. Definitely needs a second book, so attached to the characters I need to know what next for them.')\n('haibara ai', 1, 'My 5 year old son loves dogman books so much! He got the book this afternoon, finished it in less than 50 minutes and cannot stop talking about it. He likes to read aloud, acting like the characters. Thank you, Dav Pilkey!')\n('kaori', 1, 'My 7 year old son LOVED this book. He laughed so much while reading it, and kept bringing me sections to read.')\n('shinichi', 1, 'I like the book its very good it has vilonce romance sadness and happiness ')\n('emma ', 1, 'We got this in the mail on day of release and my 9 year old read it right away. He said it was the best Dog Man book out of the whole series.')\n('ran', 1, 'I just read a news article about Captain Underpants being cancelled.')\n('haibara ai', 2, 'We purchased one copy for each of our kids.')\n('emma ', 2, 'I bought two copies of this book for my children. Once they complete a grade in school, I will have their teachers sign it, and I will give them the book with notes from all their teachers on the day they graduate')\n('ran', 2, 'I bought two copies of this book for my children. Once they complete a grade in school, I will have their teachers sign it, and I will give them the book with notes from all their teachers on the day they graduate')\n('kaori', 2, 'Our seven-year-old grandson loves the Dogman books. ')\n('shinichi', 2, 'The main character is a white guy, and the words are sexist')\n('haibara ai', 3, 'It came bad it was bad')\n('haibara ai', 3, 'I found this book quite boring, the other dog man books were AWSOME but this one was not as good as the ones before!\\r\\n')\n('ran', 3, 'waste of money. very poor.')\n('connan', 3, 'I got like how unjust that the other books are not cooler then dog man')\n('Nguyen van A', 3, 'My 5 year old son loves dogman books so much! He got the book this afternoon, finished it in less than 50 minutes and cannot stop talking about it. He likes to read aloud, acting like the characters. Thank you, Dav Pilkey!')\n('Nguyen van A', 4, 'not an amazing book')\n('kaori', 4, 'The book arrived damaged, and because is a gift there is no time to replace it.\\r\\nVery disappointed ')\n('emma ', 4, 'dont get it its so bad dont see the point in it the fights are so bad and this kinda ruined dog man for me')\n('ran', 4, 'I can not wait to get the book tomorrow I think it is gonna be excellent')\n('shinichi', 4, 'Impressive first novel... with an ending worthy of a classic Agatha Christie mystery')\n('haibara ai', 6, 'We are thrilled to have this addition to our collection!! Definitely enticing for my growing bookworm, he opened and read it before I realize it had arrived in the mail.\\r\\n')\n('shinichi', 6, 'My 8 year old daughter loved this book and read it all in a couple hours. She loves the whole Dogman series and reads then over and over.\\r\\n')\n('emma ', 6, 'I really like reading Dog Man - although not quite age-appropriate')\n('Nguyen van A', 6, ' it is a great book to read. Please keep making more Dog Man books and never stop!')\n('kaori', 6, 'When the book came, my 9-year-old son finished in less than 20 minutes')\n('shinichi', 6, 'My grand daughter loves this series of books and this author!')\n('tran van A', 5, 'My 11 year old loves the dog man series of books and wanted to read the newest one as soon as it came out. I am glad I purchased it for him because he really enjoyed it and read the whole book the same day it arrived')\n('haibara ai', 7, 'so boring')\n('emma ', 7, 'not an amazing book')\n('emma ', 7, 'dont get it its so bad dont see the point in it the fights are so bad and this kinda ruined dog man for me\\r\\n')\n('shinichi', 8, 'My son loves Dav Pelkey Dog Man books')\n('ran', 8, 'I bought these as a gift for my son my nephew. They came in the box in perfect condition. This is the latest dog man book. If you have a young reader they love it.')\n('Nguyen van A', 8, 'Yay! Always thrilled by these vibrant colors from this series. Story line is excellent as expected. Has my 11 year old giggling over pee.... clean humor. I love it.')\n('kaori', 8, 'My 7 year old loves this series and has been waiting on this book to come out. He was super excited to receive it and read it within the day.')\n('kaori', 8, 'Our daughter is glad our grandson likes these books, he gobbles them up, and gets more reading skills in the process, :)')\n('shinichi', 8, 'Was a hit with my 5 year old who now has a complete collection of Dog man books. She read it twice in one day! Please keep writing them.')\n('shinichi', 8, 'And the new story was great!')\n('ran', 8, 'I bought for my Son, he loves Dog Man and he has all the books for the collection, he is waiting for more books.')\n('haibara ai', 8, 'Great series. My grandson, 11, has been reading these books for years. This is his favorite series.')\n('haibara ai', 9, 'interesting!')\n('kaori', 9, 'Every book is funnier than the previous.')\n('Nguyen van A', 9, 'My 6 year old loves Dogman. Great illustration. We have read it more than half a dozen times.')\n('ran', 9, 'My 7 yo is a reading fool thanks to these books!')\n('kaori', 9, 'not an amazing book')\n('haibara ai', 10, 'This book was a let down.')\n('ran', 10, 'This book was a let down.')\n('Nguyen van A', 10, 'The book was damaged upon arrival.')\n('haibara ai', 10, 'dont get it its so bad dont see the point in it the fights are so bad and this kinda ruined dog man for me')\n('kaori', 10, 'sucks hate dont red it its for little babies to read its dog water never read it')\n"
     ]
    }
   ],
   "source": [
    "mycursor = conn.cursor()\n",
    "\n",
    "mycursor.execute(\"SELECT * FROM comments\")\n",
    "\n",
    "myresult = mycursor.fetchall()\n",
    "\n",
    "for x in myresult:\n",
    "  print(x)"
   ]
  },
  {
   "cell_type": "code",
   "execution_count": null,
   "metadata": {},
   "outputs": [],
   "source": []
  }
 ]
}